{
 "cells": [
  {
   "cell_type": "markdown",
   "id": "4d0d18d6-c282-4b17-9a80-5898ebbfd40f",
   "metadata": {},
   "source": [
    "# LAB 2 --- PROBLEM 1"
   ]
  },
  {
   "cell_type": "code",
   "execution_count": 12,
   "id": "e86e290c-3fd3-455c-9bfc-cbdab70d9a27",
   "metadata": {},
   "outputs": [
    {
     "name": "stdout",
     "output_type": "stream",
     "text": [
      "Is 'racecar' a palindrome? True\n",
      "Is 'This is not a palindrome.' a palindrome? False\n"
     ]
    }
   ],
   "source": [
    "#                       LAB-2 --- PROBLEM 1\n",
    "# Name: Jakob West\n",
    "# Date: 09/30/2024\n",
    "# Class/Section #: ECE-3007-001\n",
    "\n",
    "# Problem Statement: Create a Jupyter Notebook for the Palindrome \n",
    "# program in HWK-2. DO NOT USE THE PALINDROME FUNCTION – you can \n",
    "# use the function to check your program results. Write a \n",
    "# description of what a palindrome (Text in Jupyter Notebook) \n",
    "# is and the algorithm you created to write you program. Include \n",
    "# your program code and a screenshot showing the program in your \n",
    "# Jupyter Notebook on the Raspberry Pi. Screenshot must show \n",
    "# Jupyter Notebook program open, on the Pi. Show 2 examples (one \n",
    "# true Palindrome and one False).\n",
    "\n",
    "# Algorithm:\n",
    "\t# 1.\tInput: A string of text.\n",
    "\t# 2.\tStep 1: Clean the input by removing any non-alphanumeric characters and converting all characters to lowercase.\n",
    "\t# 3.\tStep 2: Reverse the cleaned text.\n",
    "\t# 4.\tStep 3: Compare the cleaned text with the reversed text.\n",
    "\t#   -   If the cleaned text and reversed text are the same, return True (the text is a palindrome).\n",
    "\t#   -   Otherwise, return False (the text is not a palindrome).\n",
    "    # 5.    Output: The result (True/False) indicating whether the input text is a palindrome.\n",
    "\n",
    "\n",
    "def is_palindrome(text):\n",
    "    # Step 1: Clean the input (remove non-alphanumeric characters, convert to lowercase)\n",
    "    cleaned_text = ''.join(char.lower() for char in text if char.isalnum())\n",
    "\n",
    "    # Step 2: Reverse the cleaned text\n",
    "    reversed_text = cleaned_text[::-1]\n",
    "\n",
    "    # Step 3: Check if the cleaned text is same as the reversed text\n",
    "    if cleaned_text == reversed_text:\n",
    "        return True\n",
    "    else:\n",
    "        return False\n",
    "\n",
    "# example usage:\n",
    "example_1 = \"racecar\"\n",
    "example_2 = \"This is not a palindrome.\"\n",
    "\n",
    "print(f\"Is '{example_1}' a palindrome? {is_palindrome(example_1)}\") # True example\n",
    "print(f\"Is '{example_2}' a palindrome? {is_palindrome(example_2)}\") # False example"
   ]
  },
  {
   "cell_type": "markdown",
   "id": "667ec4fe-1706-4a7b-946a-556c91d30b82",
   "metadata": {},
   "source": [
    "A palindrome is a word or phrase that reads the same forwards as it does backwards. "
   ]
  },
  {
   "cell_type": "markdown",
   "id": "8d67388a-6f2f-4da7-99df-d87516766d27",
   "metadata": {},
   "source": [
    "# LAB 2 --- PROBLEM 2"
   ]
  },
  {
   "cell_type": "code",
   "execution_count": 14,
   "id": "12af0134-0703-4f3e-9835-949a85ab9d6b",
   "metadata": {},
   "outputs": [
    {
     "name": "stdout",
     "output_type": "stream",
     "text": [
      "Generated Password: orange@grape97\n"
     ]
    }
   ],
   "source": [
    "#                       LAB-2 --- PROBLEM 2\n",
    "# Name: Jakob West\n",
    "# Date: 09/30/2024\n",
    "# Class/Section #: ECE-3007-001\n",
    "\n",
    "# Problem Statement: Create a Jupyter Notebook for the random Password generator using Lists. Create a List with\n",
    "# ten words (each word - three letters or more). Create a List with 10 keyboard printable symbols\n",
    "# (non-number, non-letter). Write a Python program that randomly picks one of the ten words, one\n",
    "# of the 10 symbols, one of the ten words and a random number between 1 and 99. Then\n",
    "# concatenates them into a Password (string). Print the Password.\n",
    "\n",
    "# Algorithm: \n",
    "# \t1.\tDefine a list called word_list with 10 words, each having at least 3 letters.\n",
    "#   2.\tDefine a list called symbol_list with 10 keyboard printable symbols (non-number, non-letter).\n",
    "#   3.\tCreate a function generate_password:\n",
    "\t  # Select a random word from word_list and store it as word1.\n",
    "\t  # Select a random symbol from symbol_list and store it as symbol.\n",
    "\t  # Select another random word from word_list and store it as word2.\n",
    "\t  # Generate a random number between 1 and 99 and store it as number.\n",
    "\t  # Concatenate word1, symbol, word2, and number into a single string called password.\n",
    "#   4. Return the generated password.\n",
    "#   5. Call the generate_password function and print the result.\n",
    "\n",
    "\n",
    "import random\n",
    "\n",
    "# List of 10 words, each word is at least 3 letters long\n",
    "word_list = [\"apple\", \"banana\", \"grape\", \"orange\", \"kiwi\", \"mango\", \"peach\", \"cherry\", \"plum\", \"pear\"]\n",
    "\n",
    "# List of 10 keyboard printable symbols (non-number, non-letter)\n",
    "symbol_list = [\"!\", \"@\", \"#\", \"$\", \"%\", \"^\", \"&\", \"*\", \"(\", \")\"]\n",
    "\n",
    "# Generate a random password\n",
    "def generate_password():\n",
    "    word1 = random.choice(word_list)\n",
    "    symbol = random.choice(symbol_list)\n",
    "    word2 = random.choice(word_list)\n",
    "    number = random.randint(1, 99)\n",
    "\n",
    "    # Concatenate into a password string\n",
    "    password = f\"{word1}{symbol}{word2}{number}\"\n",
    "\n",
    "    return password\n",
    "\n",
    "# Example usage:\n",
    "password = generate_password()\n",
    "print(f\"Generated Password: {password}\")"
   ]
  }
 ],
 "metadata": {
  "kernelspec": {
   "display_name": "Python 3 (ipykernel)",
   "language": "python",
   "name": "python3"
  },
  "language_info": {
   "codemirror_mode": {
    "name": "ipython",
    "version": 3
   },
   "file_extension": ".py",
   "mimetype": "text/x-python",
   "name": "python",
   "nbconvert_exporter": "python",
   "pygments_lexer": "ipython3",
   "version": "3.11.1"
  }
 },
 "nbformat": 4,
 "nbformat_minor": 5
}
