{
 "cells": [
  {
   "cell_type": "markdown",
   "id": "e5a2801b-ca1e-4201-81a7-50cef289c747",
   "metadata": {},
   "source": [
    "# LAB 4 --- PROBLEM 1"
   ]
  },
  {
   "cell_type": "code",
   "execution_count": 1,
   "id": "e7b85fa0-483f-49c2-8e8e-3cbfdec6f535",
   "metadata": {},
   "outputs": [
    {
     "ename": "ModuleNotFoundError",
     "evalue": "No module named 'lgpio'",
     "output_type": "error",
     "traceback": [
      "\u001b[0;31m---------------------------------------------------------------------------\u001b[0m",
      "\u001b[0;31mModuleNotFoundError\u001b[0m                       Traceback (most recent call last)",
      "Cell \u001b[0;32mIn[1], line 17\u001b[0m\n\u001b[1;32m      1\u001b[0m \u001b[38;5;66;03m#                       LAB-4 --- PROBLEM 1\u001b[39;00m\n\u001b[1;32m      2\u001b[0m \u001b[38;5;66;03m# Name: Jakob West\u001b[39;00m\n\u001b[1;32m      3\u001b[0m \u001b[38;5;66;03m# Date: 10/14/2024\u001b[39;00m\n\u001b[0;32m   (...)\u001b[0m\n\u001b[1;32m     13\u001b[0m \n\u001b[1;32m     14\u001b[0m \u001b[38;5;66;03m# Algorithm:\u001b[39;00m\n\u001b[0;32m---> 17\u001b[0m \u001b[38;5;28;01mimport\u001b[39;00m \u001b[38;5;21;01mlgpio\u001b[39;00m\n\u001b[1;32m     18\u001b[0m \u001b[38;5;28;01mimport\u001b[39;00m \u001b[38;5;21;01mtime\u001b[39;00m\n\u001b[1;32m     20\u001b[0m \u001b[38;5;66;03m# Define the PWM-capable GPIO pin (BCM pin 18)\u001b[39;00m\n",
      "\u001b[0;31mModuleNotFoundError\u001b[0m: No module named 'lgpio'"
     ]
    }
   ],
   "source": [
    "#                       LAB-4 --- PROBLEM 1\n",
    "# Name: Jakob West\n",
    "# Date: 10/14/2024\n",
    "# Class/Section #: ECE-3007-001\n",
    "\n",
    "# Problem Statement: Write a Jupyter Notebook (JN) markdown window that explains PWM and how you can use\n",
    "# a PWM pin to control the brightness of a single color LED. Write a Python program to control\n",
    "# the brightness of the LED. Blink the LED once at 100% brightness, then OFF, then On at 40%\n",
    "# brightness, then Off, loop infinitely. You determine the On/Off cycle time to best demonstrate.\n",
    "# Post a video on YouTube that shows you starting the program from Pi touchscreen and the LED\n",
    "# blinking at different levels. NOTE: check the Pi-4 data sheet to see which pins have PWM\n",
    "# hardware.\n",
    "\n",
    "# Algorithm:\n",
    "\n",
    "\n",
    "import lgpio\n",
    "import time\n",
    "\n",
    "# Define the PWM-capable GPIO pin (BCM pin 18)\n",
    "pwm_pin = 18 # Board pin 12\n",
    "\n",
    "# Initialize the GPIO chip and claim the PWM pin\n",
    "h = lgpio.gpiochip_open(0)\n",
    "lgpio.gpio_claim_output(h, pwm_pin)\n",
    "\n",
    "# Function to set PWM on the pin\n",
    "def set_pwm(duty_cycle):\n",
    "    # Set the PWM on the pin (channel, pin, frequency, duty cycle)\n",
    "    lgpio.tx_pwm(h, pwm_pin, 1000, duty_cycle)  # 1000 Hz frequency\n",
    "\n",
    "# Infinite loop to blink the LED at different brightness levels\n",
    "while True:\n",
    "    # 100% brightness\n",
    "    print(\"LED at 100% brightness\")\n",
    "    set_pwm(100)  # 100% duty cycle (full brightness)\n",
    "    time.sleep(1)  # On for 1 second\n",
    "\n",
    "    # LED off\n",
    "    print(\"LED off\")\n",
    "    set_pwm(0)  # 0% duty cycle (off)\n",
    "    time.sleep(1)  # Off for 1 second\n",
    "\n",
    "    # 40% brightness\n",
    "    print(\"LED at 40% brightness\")\n",
    "    set_pwm(40)  # 40% duty cycle (dim brightness)\n",
    "    time.sleep(1)  # On for 1 second\n",
    "\n",
    "    # LED off\n",
    "    print(\"LED off\")\n",
    "    set_pwm(0)  # 0% duty cycle (off)\n",
    "    time.sleep(1)  # Off for 1 second\n",
    "\n",
    "# Stop PWM (optional if program is exited)\n",
    "lgpio.tx_pwm(h, pwm_pin, 1000, 0)\n",
    "lgpio.gpiochip_close(h)"
   ]
  },
  {
   "cell_type": "markdown",
   "id": "854ac81b-066f-4700-b83b-6fd2fc24e419",
   "metadata": {},
   "source": [
    "# LAB 4 --- PROBLEM 2"
   ]
  },
  {
   "cell_type": "code",
   "execution_count": 2,
   "id": "69b3cfb2-f758-4067-acad-02eba728a819",
   "metadata": {},
   "outputs": [
    {
     "ename": "ModuleNotFoundError",
     "evalue": "No module named 'lgpio'",
     "output_type": "error",
     "traceback": [
      "\u001b[0;31m---------------------------------------------------------------------------\u001b[0m",
      "\u001b[0;31mModuleNotFoundError\u001b[0m                       Traceback (most recent call last)",
      "Cell \u001b[0;32mIn[2], line 13\u001b[0m\n\u001b[1;32m      1\u001b[0m \u001b[38;5;66;03m#                       LAB-4 --- PROBLEM 2\u001b[39;00m\n\u001b[1;32m      2\u001b[0m \u001b[38;5;66;03m# Name: Jakob West\u001b[39;00m\n\u001b[1;32m      3\u001b[0m \u001b[38;5;66;03m# Date: 10/14/2024\u001b[39;00m\n\u001b[0;32m   (...)\u001b[0m\n\u001b[1;32m      9\u001b[0m \n\u001b[1;32m     10\u001b[0m \u001b[38;5;66;03m# Algorithm:\u001b[39;00m\n\u001b[0;32m---> 13\u001b[0m \u001b[38;5;28;01mimport\u001b[39;00m \u001b[38;5;21;01mlgpio\u001b[39;00m\n\u001b[1;32m     14\u001b[0m \u001b[38;5;28;01mfrom\u001b[39;00m \u001b[38;5;21;01mtkinter\u001b[39;00m \u001b[38;5;28;01mimport\u001b[39;00m \u001b[38;5;241m*\u001b[39m\n\u001b[1;32m     16\u001b[0m \u001b[38;5;66;03m# Define the GPIO pin (BCM pin 18 for example)\u001b[39;00m\n",
      "\u001b[0;31mModuleNotFoundError\u001b[0m: No module named 'lgpio'"
     ]
    }
   ],
   "source": [
    "#                       LAB-4 --- PROBLEM 2\n",
    "# Name: Jakob West\n",
    "# Date: 10/14/2024\n",
    "# Class/Section #: ECE-3007-001\n",
    "\n",
    "# Problem Statement: Write a Jupyter Notebook (JN) with a Tinker GUI with three buttons. Button one turns-On the\n",
    "# LED, button two turns-Off the LED and button three terminates the program. Post a video on\n",
    "# YouTube that shows you executing all the GUI buttons.\n",
    "\n",
    "# Algorithm:\n",
    "\n",
    "\n",
    "import lgpio\n",
    "from tkinter import *\n",
    "\n",
    "# Define the GPIO pin (BCM pin 18 for example)\n",
    "led_pin = 18 # Board pin 12\n",
    "\n",
    "# Initialize the GPIO chip and set the pin as output\n",
    "h = lgpio.gpiochip_open(0)\n",
    "lgpio.gpio_claim_output(h, led_pin)\n",
    "\n",
    "# Function to turn on the LED\n",
    "def led_on():\n",
    "    lgpio.gpio_write(h, led_pin, 1)  # Set pin to HIGH\n",
    "    print(\"LED turned ON\")\n",
    "\n",
    "# Function to turn off the LED\n",
    "def led_off():\n",
    "    lgpio.gpio_write(h, led_pin, 0)  # Set pin to LOW\n",
    "    print(\"LED turned OFF\")\n",
    "\n",
    "# Function to quit the program and clean up the GPIO\n",
    "def quit_program():\n",
    "    lgpio.gpiochip_close(h)  # Close the GPIO chip\n",
    "    root.destroy()  # Destroy the Tkinter window\n",
    "    print(\"Program terminated\")\n",
    "\n",
    "# Create the Tkinter GUI window\n",
    "root = Tk()\n",
    "root.title(\"LED Control GUI\")\n",
    "\n",
    "# Create buttons for the GUI\n",
    "btn_on = Button(root, text=\"Turn ON LED\", command=led_on)\n",
    "btn_on.pack(pady=10)\n",
    "\n",
    "btn_off = Button(root, text=\"Turn OFF LED\", command=led_off)\n",
    "btn_off.pack(pady=10)\n",
    "\n",
    "btn_quit = Button(root, text=\"Terminate Program\", command=quit_program)\n",
    "btn_quit.pack(pady=10)\n",
    "\n",
    "# Run the GUI event loop\n",
    "root.mainloop()"
   ]
  }
 ],
 "metadata": {
  "kernelspec": {
   "display_name": "Python 3 (ipykernel)",
   "language": "python",
   "name": "python3"
  },
  "language_info": {
   "codemirror_mode": {
    "name": "ipython",
    "version": 3
   },
   "file_extension": ".py",
   "mimetype": "text/x-python",
   "name": "python",
   "nbconvert_exporter": "python",
   "pygments_lexer": "ipython3",
   "version": "3.11.1"
  }
 },
 "nbformat": 4,
 "nbformat_minor": 5
}
