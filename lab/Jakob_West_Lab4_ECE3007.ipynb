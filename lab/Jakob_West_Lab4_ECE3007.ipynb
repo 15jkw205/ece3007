{
 "cells": [
  {
   "cell_type": "markdown",
   "id": "e5a2801b-ca1e-4201-81a7-50cef289c747",
   "metadata": {},
   "source": [
    "# LAB 4 --- PROBLEM 1"
   ]
  },
  {
   "cell_type": "code",
   "execution_count": 2,
   "id": "e7b85fa0-483f-49c2-8e8e-3cbfdec6f535",
   "metadata": {},
   "outputs": [
    {
     "ename": "ModuleNotFoundError",
     "evalue": "No module named 'RPi'",
     "output_type": "error",
     "traceback": [
      "\u001b[0;31m---------------------------------------------------------------------------\u001b[0m",
      "\u001b[0;31mModuleNotFoundError\u001b[0m                       Traceback (most recent call last)",
      "Cell \u001b[0;32mIn[2], line 1\u001b[0m\n\u001b[0;32m----> 1\u001b[0m \u001b[38;5;28;01mimport\u001b[39;00m \u001b[38;5;21;01mRPi\u001b[39;00m\u001b[38;5;21;01m.\u001b[39;00m\u001b[38;5;21;01mGPIO\u001b[39;00m \u001b[38;5;28;01mas\u001b[39;00m \u001b[38;5;21;01mGPIO\u001b[39;00m\n\u001b[1;32m      2\u001b[0m \u001b[38;5;28;01mimport\u001b[39;00m \u001b[38;5;21;01mtime\u001b[39;00m\n\u001b[1;32m      4\u001b[0m \u001b[38;5;66;03m# Set the GPIO mode\u001b[39;00m\n",
      "\u001b[0;31mModuleNotFoundError\u001b[0m: No module named 'RPi'"
     ]
    }
   ],
   "source": [
    "import RPi.GPIO as GPIO\n",
    "import time\n",
    "\n",
    "# Set the GPIO mode\n",
    "GPIO.setmode(GPIO.BCM)\n",
    "\n",
    "# Define the pin with PWM capability (check the Raspberry Pi datasheet for PWM-capable pins)\n",
    "led_pin = 18  # Example using GPIO18, which has PWM\n",
    "\n",
    "# Set up the LED pin as output\n",
    "GPIO.setup(led_pin, GPIO.OUT)\n",
    "\n",
    "# Set up PWM on the pin at 1000Hz frequency\n",
    "pwm = GPIO.PWM(led_pin, 1000)\n",
    "pwm.start(0)  # Start PWM with 0% duty cycle (LED off)\n",
    "\n",
    "try:\n",
    "    while True:\n",
    "        # 100% brightness\n",
    "        print(\"LED at 100% brightness\")\n",
    "        pwm.ChangeDutyCycle(100)  # 100% duty cycle\n",
    "        time.sleep(1)  # On for 1 second\n",
    "        \n",
    "        # LED OFF\n",
    "        print(\"LED off\")\n",
    "        pwm.ChangeDutyCycle(0)  # 0% duty cycle (LED off)\n",
    "        time.sleep(1)  # Off for 1 second\n",
    "\n",
    "        # 40% brightness\n",
    "        print(\"LED at 40% brightness\")\n",
    "        pwm.ChangeDutyCycle(40)  # 40% duty cycle\n",
    "        time.sleep(1)  # On for 1 second\n",
    "        \n",
    "        # LED OFF\n",
    "        print(\"LED off\")\n",
    "        pwm.ChangeDutyCycle(0)  # 0% duty cycle (LED off)\n",
    "        time.sleep(1)  # Off for 1 second\n",
    "\n",
    "except KeyboardInterrupt:\n",
    "    pass\n",
    "\n",
    "finally:\n",
    "    # Clean up the GPIO settings\n",
    "    pwm.stop()\n",
    "    GPIO.cleanup()"
   ]
  },
  {
   "cell_type": "markdown",
   "id": "854ac81b-066f-4700-b83b-6fd2fc24e419",
   "metadata": {},
   "source": [
    "# LAB 4 --- PROBLEM 2"
   ]
  },
  {
   "cell_type": "code",
   "execution_count": 3,
   "id": "69b3cfb2-f758-4067-acad-02eba728a819",
   "metadata": {},
   "outputs": [
    {
     "ename": "ModuleNotFoundError",
     "evalue": "No module named 'RPi'",
     "output_type": "error",
     "traceback": [
      "\u001b[0;31m---------------------------------------------------------------------------\u001b[0m",
      "\u001b[0;31mModuleNotFoundError\u001b[0m                       Traceback (most recent call last)",
      "Cell \u001b[0;32mIn[3], line 1\u001b[0m\n\u001b[0;32m----> 1\u001b[0m \u001b[38;5;28;01mimport\u001b[39;00m \u001b[38;5;21;01mRPi\u001b[39;00m\u001b[38;5;21;01m.\u001b[39;00m\u001b[38;5;21;01mGPIO\u001b[39;00m \u001b[38;5;28;01mas\u001b[39;00m \u001b[38;5;21;01mGPIO\u001b[39;00m\n\u001b[1;32m      2\u001b[0m \u001b[38;5;28;01mfrom\u001b[39;00m \u001b[38;5;21;01mtkinter\u001b[39;00m \u001b[38;5;28;01mimport\u001b[39;00m \u001b[38;5;241m*\u001b[39m\n\u001b[1;32m      4\u001b[0m \u001b[38;5;66;03m# Set the GPIO mode\u001b[39;00m\n",
      "\u001b[0;31mModuleNotFoundError\u001b[0m: No module named 'RPi'"
     ]
    }
   ],
   "source": [
    "import RPi.GPIO as GPIO\n",
    "from tkinter import *\n",
    "\n",
    "# Set the GPIO mode\n",
    "GPIO.setmode(GPIO.BCM)\n",
    "\n",
    "# Define the LED pin\n",
    "led_pin = 18  # Example using GPIO18\n",
    "\n",
    "# Set up the LED pin as output\n",
    "GPIO.setup(led_pin, GPIO.OUT)\n",
    "\n",
    "# Function to turn on the LED\n",
    "def led_on():\n",
    "    GPIO.output(led_pin, GPIO.HIGH)\n",
    "    print(\"LED turned ON\")\n",
    "\n",
    "# Function to turn off the LED\n",
    "def led_off():\n",
    "    GPIO.output(led_pin, GPIO.LOW)\n",
    "    print(\"LED turned OFF\")\n",
    "\n",
    "# Function to quit the program and clean up GPIO\n",
    "def quit_program():\n",
    "    GPIO.cleanup()\n",
    "    root.destroy()\n",
    "    print(\"Program terminated\")\n",
    "\n",
    "# Create the Tinker GUI window\n",
    "root = Tk()\n",
    "root.title(\"LED Control GUI\")\n",
    "\n",
    "# Create buttons for the GUI\n",
    "btn_on = Button(root, text=\"Turn ON LED\", command=led_on)\n",
    "btn_on.pack(pady=10)\n",
    "\n",
    "btn_off = Button(root, text=\"Turn OFF LED\", command=led_off)\n",
    "btn_off.pack(pady=10)\n",
    "\n",
    "btn_quit = Button(root, text=\"Terminate Program\", command=quit_program)\n",
    "btn_quit.pack(pady=10)\n",
    "\n",
    "# Run the GUI event loop\n",
    "root.mainloop()"
   ]
  }
 ],
 "metadata": {
  "kernelspec": {
   "display_name": "Python 3 (ipykernel)",
   "language": "python",
   "name": "python3"
  },
  "language_info": {
   "codemirror_mode": {
    "name": "ipython",
    "version": 3
   },
   "file_extension": ".py",
   "mimetype": "text/x-python",
   "name": "python",
   "nbconvert_exporter": "python",
   "pygments_lexer": "ipython3",
   "version": "3.11.1"
  }
 },
 "nbformat": 4,
 "nbformat_minor": 5
}
