{
 "cells": [
  {
   "cell_type": "markdown",
   "id": "5086603a-b62f-4cbd-b74d-f31188645286",
   "metadata": {},
   "source": [
    "# HWK-3 --- PROBLEM 1"
   ]
  },
  {
   "cell_type": "code",
   "execution_count": 8,
   "id": "b55ac56c-5aab-4013-a0df-eecec5c300dd",
   "metadata": {},
   "outputs": [
    {
     "name": "stdin",
     "output_type": "stream",
     "text": [
      "Enter a string with at least 20 characters (letters, digits, and symbols):  12345678901234567890\n",
      "Enter a character, digit, or symbol to count in the string:  1\n"
     ]
    },
    {
     "name": "stdout",
     "output_type": "stream",
     "text": [
      "The character '1' appears 2 times in the string.\n",
      "The string contains 0 letters 20 digits, and 0 other symbols.\n"
     ]
    }
   ],
   "source": [
    "#                       HWK-3 --- PROBLEM 1\n",
    "# Name: Jakob West\n",
    "# Date: 10/07/2024\n",
    "# Class/Section #: ECE-3007-001\n",
    "\n",
    "# Problem Statement: Prompt the user to enter a string of characters, \n",
    "# digits and symbols (at least 20 in total). Write a function to prompt \n",
    "# the user to enter a character/digit/symbol and return the number of \n",
    "# times it is found in the string and print to screen. Write a function \n",
    "# to count the number of letters and digits and other symbols in the string \n",
    "# and print to screen.\n",
    "\n",
    "# Algorithm:\n",
    "# Define a function to count occurrences of a specific character in a given string\n",
    "    # Count how many times the character appears in the string\n",
    "    # Return the count\n",
    "\n",
    "# Define a function to count the number of letters, digits, and symbols in a string\n",
    "    # Initialize counters for letters, digits, and symbols\n",
    "    # For each character in the string\n",
    "        # If the character is a letter, increment the letter counter\n",
    "        # Else if the character is a digit, increment the digit counter\n",
    "        # Else, increment the symbol counter\n",
    "    # Return the counts of letters, digits, and symbols\n",
    "\n",
    "# Prompt the user to enter a string of at least 20 characters\n",
    "    # Ensure the string meets the minimum length requirement\n",
    "        # If the string is too short, prompt the user to enter a new string\n",
    "\n",
    "# Prompt the user to enter a specific character, digit, or symbol to count in the string\n",
    "\n",
    "# Call the function to count occurrences of the specified character\n",
    "    # Display the result to the user\n",
    "\n",
    "# Call the function to count letters, digits, and symbols in the string\n",
    "    # Display the results to the user\n",
    "\n",
    "\n",
    "def count_char_occurrences(user_string, char): \n",
    "    # Count occurrences of the specific character in the string \n",
    "    return user_string.count(char) \n",
    "\n",
    "# end count_char_occurrences() function \n",
    "\n",
    "\n",
    "def count_letters_digits_symbols(user_string): \n",
    "    letters = 0\n",
    "    digits = 0 \n",
    "    symbols = 0 \n",
    "\n",
    "    # Iterate through the string to classify each character \n",
    "    for char in user_string: \n",
    "        if char.isalpha(): \n",
    "            letters += 1\n",
    "        elif char.isdigit(): \n",
    "            digits += 1 \n",
    "        else: \n",
    "            symbols += 1 \n",
    "            \n",
    "    return letters, digits, symbols \n",
    "\n",
    "# end count_letters_digits_symbols() function\n",
    "\n",
    "\n",
    "# Prompt the user to enter a string of at least 20 characters \n",
    "user_string = input(\"Enter a string with at least 20 characters \" \n",
    "+ \"(letters, digits, and symbols): \")\n",
    "\n",
    "# Ensure the string meets the minimum length requirement \n",
    "while len(user_string) < 20: \n",
    "    user_string = input(\"String is too short. Please enter at least \"\n",
    "    + \"20 characters: \")\n",
    "\n",
    "# Prompt the user for a specific character/digit/symbol to count\n",
    "char_to_find = input(\"Enter a character, digit, or symbol to count in \" \n",
    "+ \"the string: \")\n",
    "\n",
    "# Call the function to count occurrences of the specific character\n",
    "char_count = count_char_occurrences(user_string, char_to_find) \n",
    "print(f\"The character '{char_to_find}' appears {char_count} times in the string.\") \n",
    "\n",
    "# Call the function to count letters, digits, and symbols \n",
    "letters, digits, symbols = count_letters_digits_symbols(user_string) \n",
    "print(f\"The string contains {letters} letters {digits} digits, and {symbols} other symbols.\")"
   ]
  },
  {
   "cell_type": "markdown",
   "id": "6c8873f8-a309-45d8-828f-92b086b28cae",
   "metadata": {},
   "source": [
    "# HWK-3 --- PROBLEM 2 "
   ]
  },
  {
   "cell_type": "code",
   "execution_count": 10,
   "id": "6e21577c-ced1-41f7-802e-aa7186b41042",
   "metadata": {},
   "outputs": [
    {
     "name": "stdout",
     "output_type": "stream",
     "text": [
      "Randomly generated list of integers:  [25, 14, 26, 23, 12, 13, 20, 25, 25, 14]\n",
      "The smallest value in the list is: 12\n",
      "The largest values in the list is: 26\n"
     ]
    }
   ],
   "source": [
    "#                       HWK-3 --- PROBLEM 2\n",
    "# Name: Jakob West\n",
    "# Date: 10/07/2024\n",
    "# Class/Section #: ECE-3007-001\n",
    "\n",
    "# Problem Statement: Create a list, fill it with random integers 10 to \n",
    "# 29 (inclusive). Print the list to the screen. Write a function that \n",
    "# finds the largest and smallest values in the list and prints them to \n",
    "# the screen.\n",
    "\n",
    "# Algorithm:\n",
    "# Import the random module\n",
    "# Define a function to find the smallest and largest values in a list\n",
    "    # Find the smallest value in the list\n",
    "    # Find the largest value in the list\n",
    "    # Return the smallest and largest values\n",
    "\n",
    "# Create a list filled with random integers between 10 and 29 (inclusive)\n",
    "# Print the generated list of random integers\n",
    "\n",
    "# Call the function to find the smallest and largest values in the list\n",
    "    # Display the smallest value in the list\n",
    "    # Display the largest value in the list\n",
    "\n",
    "\n",
    "import random \n",
    "\n",
    "def find_min_max(random_list): \n",
    "    # Find the smallest and largest values in the list \n",
    "    smallest = min(random_list) \n",
    "    largest = max(random_list) \n",
    "\n",
    "    return smallest, largest \n",
    "\n",
    "# end fin_min_max() function \n",
    "\n",
    "# Create a list filled with random integers between 10 and 29 (inclusive) \n",
    "random_list = [random.randint(10, 29) for i in range(10)] \n",
    "\n",
    "# Print the generated list \n",
    "print(\"Randomly generated list of integers: \", random_list) \n",
    "\n",
    "# Call the function to find the smallest and largest values \n",
    "smallest, largest = find_min_max(random_list) \n",
    "print(f\"The smallest value in the list is: {smallest}\") \n",
    "print(f\"The largest values in the list is: {largest}\") "
   ]
  }
 ],
 "metadata": {
  "kernelspec": {
   "display_name": "Python 3 (ipykernel)",
   "language": "python",
   "name": "python3"
  },
  "language_info": {
   "codemirror_mode": {
    "name": "ipython",
    "version": 3
   },
   "file_extension": ".py",
   "mimetype": "text/x-python",
   "name": "python",
   "nbconvert_exporter": "python",
   "pygments_lexer": "ipython3",
   "version": "3.11.1"
  }
 },
 "nbformat": 4,
 "nbformat_minor": 5
}
