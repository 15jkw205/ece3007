{
 "cells": [
  {
   "cell_type": "markdown",
   "id": "26313262-9696-4e9d-8eaf-ac36229575fd",
   "metadata": {},
   "source": [
    "# HWK-1 --- Problem 1"
   ]
  },
  {
   "cell_type": "code",
   "execution_count": 1,
   "id": "87835670-91b7-4493-ad36-b60da9992a92",
   "metadata": {},
   "outputs": [
    {
     "name": "stdin",
     "output_type": "stream",
     "text": [
      "Enter the number of hours:  4\n",
      "Enter the number of minutes:  59\n",
      "Enter the number of seconds: 23\n"
     ]
    },
    {
     "name": "stdout",
     "output_type": "stream",
     "text": [
      "The total number of seconds in the given time interval is 17963 seconds\n"
     ]
    }
   ],
   "source": [
    "#                       HWK-1 --- Problem 1 \n",
    "# Name: Jakob West\n",
    "# Date: 09/04/2024\n",
    "# Class/Section #: ECE-3007-001\n",
    "\n",
    "# Problem Statement: Write a Jupyter Notebook, Python-3 program, that prompts the user to enter in x hours, y\n",
    "# minutes and z seconds. Calculate and print out how many seconds are in the given time interval.\n",
    "\n",
    "# Algorithm:\n",
    " # Prompt user for hours \n",
    " # Prompt user for minutes\n",
    " # Prompt user for seconds \n",
    " # Calcuate the total seconds (convert hours and minutes to seconds then sum everything) \n",
    " # Print the total number of seconds\n",
    "\n",
    "\n",
    "# Prompt the user to enter the hours, minutes, seconds\n",
    "\n",
    "hours = int(input(\"Enter the number of hours: \")) \n",
    "minutes = int(input(\"Enter the number of minutes: \"))\n",
    "seconds = int(input(\"Enter the number of seconds:\" ))\n",
    "\n",
    "# Calculate the total number of seconds\n",
    "total_seconds = (hours * 3600) + (minutes * 60) + seconds \n",
    "\n",
    "# Print the result \n",
    "print(\"The total number of seconds in the given time interval is\", total_seconds, \"seconds\")"
   ]
  },
  {
   "cell_type": "markdown",
   "id": "a42605cd-fa96-4eb3-b0aa-766cd45f792f",
   "metadata": {},
   "source": [
    "# HWK-1 --- Problem 2"
   ]
  },
  {
   "cell_type": "code",
   "execution_count": 15,
   "id": "f19a0b26-9337-4d46-8e26-9a1c545dc9a8",
   "metadata": {},
   "outputs": [
    {
     "name": "stdin",
     "output_type": "stream",
     "text": [
      "Enter the number of hours:  0\n",
      "Enter the number of minutes:  45\n",
      "Enter the number of seconds:  30\n"
     ]
    },
    {
     "name": "stdout",
     "output_type": "stream",
     "text": [
      "\n",
      "Runner's Average Pace ==>\n",
      "Miles per hour: 8.193903296703297\n",
      "Miles per minute: 0.13656505494505494\n",
      "Miles per second: 0.002276084249084249\n"
     ]
    }
   ],
   "source": [
    "#                       HWK-1 --- Problem 2 \n",
    "# Name: Jakob West\n",
    "# Date: 09/04/2024\n",
    "# Class/Section #: ECE-3007-001\n",
    "\n",
    "# Problem Statement: 2) In the same Jupyter Notebook, write a Python-3 program that prompts the user to enter the\n",
    "# time they got running a 10 kilometer race: in x hours, y minutes and z seconds. Calculate and\n",
    "# print out the runners average pace in: 1) miles/hour, 2) miles/minute and 3) miles/second.\n",
    "\n",
    "# Algorithm:\n",
    " # Define the conversion constant - 0.621371 \n",
    " # Define the race distance in km \n",
    " # Prompt the user to enter the time for the race\n",
    " # Prompt for number of hours \n",
    " # Prompt for number of minutes \n",
    " # Prompt for number of seconds \n",
    " # Calculate the total time in seconds \n",
    " # Convert the total time into hours and minutes \n",
    " # Convert the race distance from km to miles \n",
    " # Calculate the runner's average pace for mph, mpm, and mps \n",
    " # Display the results for mph, mpm, and mps\n",
    "\n",
    "\n",
    "# Constants \n",
    "KM_TO_MILES = 0.621371 # conversion\n",
    "RACE_DISTANCE_KM = 10 \n",
    "\n",
    "# Prompt the user to enter the time for the 10-kilometer race \n",
    "hours = int(input(\"Enter the number of hours: \")) \n",
    "minutes = int(input(\"Enter the number of minutes: \")) \n",
    "seconds = int(input(\"Enter the number of seconds: \")) \n",
    "\n",
    "# Calculate the total time in seconds \n",
    "total_time_seconds = (hours * 3600) + (minutes * 60) + seconds \n",
    "\n",
    "# Convert the total time into hours, minutes, and seconds \n",
    "total_time_hours = total_time_seconds / 3600 \n",
    "total_time_minutes = total_time_seconds / 60 \n",
    "\n",
    "# Convert the race distance to miles\n",
    "race_distance_miles = RACE_DISTANCE_KM * KM_TO_MILES \n",
    "\n",
    "# Calculate the runner's average pace \n",
    "average_pace_mph = race_distance_miles / total_time_hours # miles per hour\n",
    "average_pace_mpm = race_distance_miles / total_time_minutes # miles per minute \n",
    "average_pace_mps = race_distance_miles / total_time_seconds # miles per second\n",
    "\n",
    "# Print the results \n",
    "print(\"\\nRunner's Average Pace ==>\") \n",
    "print(\"Miles per hour:\", average_pace_mph)\n",
    "print(\"Miles per minute:\", average_pace_mpm)\n",
    "print(\"Miles per second:\", average_pace_mps)\n"
   ]
  },
  {
   "cell_type": "markdown",
   "id": "7f4d7403-ab2d-4ab0-9954-d26e0c4bd214",
   "metadata": {},
   "source": [
    "# HWK-1 --- Problem 3"
   ]
  },
  {
   "cell_type": "code",
   "execution_count": 13,
   "id": "03a08909-2ee5-4b11-bcb1-28ba3623239d",
   "metadata": {},
   "outputs": [
    {
     "name": "stdin",
     "output_type": "stream",
     "text": [
      "Enter the number of hours:  0 \n",
      "Enter the number of minutes:  45\n",
      "Enter the number of seconds:  30\n"
     ]
    },
    {
     "name": "stdout",
     "output_type": "stream",
     "text": [
      "\n",
      "Runner's Average Pace ==>\n",
      "Miles per hour: 8.193903296703297\n",
      "Miles per minute: 0.13656505494505494\n",
      "Miles per second: 0.002276084249084249\n"
     ]
    }
   ],
   "source": [
    "#                       HWK-1 --- Problem 3 \n",
    "# Name: Jakob West\n",
    "# Date: 09/04/2024\n",
    "# Class/Section #: ECE-3007-001\n",
    "\n",
    "# Problem Statement: 2) In the same Jupyter Notebook, write a Python-3 program that prompts the user to enter the\n",
    "# time they got running a 10 kilometer race: in x hours, y minutes and z seconds. Calculate and\n",
    "# print out the runners average pace in: 1) miles/hour, 2) miles/minute and 3) miles/second.\n",
    "\n",
    "# Algorithm:\n",
    " # create calculate_runner_pace() function \n",
    "   # Define the conversion constant - 0.621371 \n",
    "     # Define the race distance in km \n",
    "     # Prompt the user to enter the time for the race\n",
    "     # Prompt for number of hours \n",
    "     # Prompt for number of minutes \n",
    "     # Prompt for number of seconds \n",
    "     # Calculate the total time in seconds \n",
    "     # Convert the total time into hours and minutes \n",
    "     # Convert the race distance from km to miles \n",
    "     # Calculate the runner's average pace for mph, mpm, and mps \n",
    "     # Display the results for mph, mpm, and mps\n",
    " # call calculate_runner_pace() function\n",
    "\n",
    "\n",
    "# Define the function to calculate and display the runner's average pace \n",
    "def calculate_runner_pace(): \n",
    "    # Constants \n",
    "    KM_TO_MILES = 0.621371 # conversion\n",
    "    RACE_DISTANCE_KM = 10 \n",
    "    \n",
    "    # Prompt the user to enter the time for the 10-kilometer race \n",
    "    hours = int(input(\"Enter the number of hours: \")) \n",
    "    minutes = int(input(\"Enter the number of minutes: \")) \n",
    "    seconds = int(input(\"Enter the number of seconds: \")) \n",
    "    \n",
    "    # Calculate the total time in seconds \n",
    "    total_time_seconds = (hours * 3600) + (minutes * 60) + seconds \n",
    "    \n",
    "    # Convert the total time into hours, minutes, and seconds \n",
    "    total_time_hours = total_time_seconds / 3600 \n",
    "    total_time_minutes = total_time_seconds / 60 \n",
    "    \n",
    "    # Convert the race distance to miles\n",
    "    race_distance_miles = RACE_DISTANCE_KM * KM_TO_MILES \n",
    "    \n",
    "    # Calculate the runner's average pace \n",
    "    average_pace_mph = race_distance_miles / total_time_hours # miles per hour\n",
    "    average_pace_mpm = race_distance_miles / total_time_minutes # miles per minute \n",
    "    average_pace_mps = race_distance_miles / total_time_seconds # miles per second\n",
    "    \n",
    "    # Print the results \n",
    "    print(\"\\nRunner's Average Pace ==>\") \n",
    "    print(\"Miles per hour:\", average_pace_mph)\n",
    "    print(\"Miles per minute:\", average_pace_mpm)\n",
    "    print(\"Miles per second:\", average_pace_mps)\n",
    "\n",
    "# Call the function to execute the program \n",
    "calculate_runner_pace() "
   ]
  },
  {
   "cell_type": "code",
   "execution_count": null,
   "id": "5a864c06-e7ce-43a8-b3a5-d177a90c9473",
   "metadata": {},
   "outputs": [],
   "source": []
  }
 ],
 "metadata": {
  "kernelspec": {
   "display_name": "Python 3 (ipykernel)",
   "language": "python",
   "name": "python3"
  },
  "language_info": {
   "codemirror_mode": {
    "name": "ipython",
    "version": 3
   },
   "file_extension": ".py",
   "mimetype": "text/x-python",
   "name": "python",
   "nbconvert_exporter": "python",
   "pygments_lexer": "ipython3",
   "version": "3.11.1"
  }
 },
 "nbformat": 4,
 "nbformat_minor": 5
}
