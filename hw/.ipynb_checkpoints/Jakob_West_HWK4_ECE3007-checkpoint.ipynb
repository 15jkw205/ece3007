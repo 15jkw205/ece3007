{
 "cells": [
  {
   "cell_type": "markdown",
   "id": "6d0a18c2-7daf-4a52-9eda-89077c79a2f1",
   "metadata": {},
   "source": [
    "# HWK-4 --- PROBLEM 1"
   ]
  },
  {
   "cell_type": "code",
   "execution_count": 2,
   "id": "98ad8970-28d8-43e8-a3ef-3fb28bc2cf41",
   "metadata": {},
   "outputs": [
    {
     "name": "stdout",
     "output_type": "stream",
     "text": [
      "Data from 'ServiceRecruiting.txt':\n",
      "Army             7234\n",
      "Navy             5200\n",
      "Marine           6500\n",
      "Air Force        8765\n",
      "Merchant Marine  345\n",
      "Coast Guard      676\n",
      "^Z\n",
      "\n",
      "Total number of recruits: 28720\n"
     ]
    }
   ],
   "source": [
    "# Open and read the text file\n",
    "with open('ServiceRecruiting.txt', 'r') as file:\n",
    "    recruits_data = file.readlines()\n",
    "\n",
    "# Print the data to the screen\n",
    "print(\"Data from 'ServiceRecruiting.txt':\")\n",
    "for line in recruits_data:\n",
    "    print(line.strip())  # Strip removes any extra whitespace or newline characters\n",
    "\n",
    "# Calculate the total number of recruits\n",
    "total_recruits = 0\n",
    "for line in recruits_data:\n",
    "    # Split the line into the branch name and the number of recruits\n",
    "    parts = line.split()\n",
    "    if len(parts) > 1:\n",
    "        # Extract the number (which is the last part of the line)\n",
    "        recruits = int(parts[-1])\n",
    "        total_recruits += recruits\n",
    "\n",
    "# Print the total number of recruits\n",
    "print(f\"\\nTotal number of recruits: {total_recruits}\")"
   ]
  },
  {
   "cell_type": "markdown",
   "id": "bbe9631c-83dc-4fb6-9721-6790869652a8",
   "metadata": {},
   "source": [
    "# HWK-4 --- PROBLEM 2"
   ]
  },
  {
   "cell_type": "code",
   "execution_count": 3,
   "id": "a1533f85-a8bb-4443-9efb-5c86415e42fb",
   "metadata": {},
   "outputs": [
    {
     "name": "stdout",
     "output_type": "stream",
     "text": [
      "25 random integers have been written to 'TransferData.txt'.\n"
     ]
    }
   ],
   "source": [
    "import random\n",
    "\n",
    "# Generate a list of 25 random integers between 0 and 50\n",
    "random_integers = [random.randint(0, 50) for _ in range(25)]\n",
    "\n",
    "# Create and open a blank \"TransferData.txt\" file in write mode\n",
    "with open('TransferData.txt', 'w') as file:\n",
    "    # Write each integer to the file, one number per line\n",
    "    for number in random_integers:\n",
    "        file.write(f\"{number}\\n\")\n",
    "\n",
    "# Print confirmation\n",
    "print(\"25 random integers have been written to 'TransferData.txt'.\")"
   ]
  }
 ],
 "metadata": {
  "kernelspec": {
   "display_name": "Python 3 (ipykernel)",
   "language": "python",
   "name": "python3"
  },
  "language_info": {
   "codemirror_mode": {
    "name": "ipython",
    "version": 3
   },
   "file_extension": ".py",
   "mimetype": "text/x-python",
   "name": "python",
   "nbconvert_exporter": "python",
   "pygments_lexer": "ipython3",
   "version": "3.11.1"
  }
 },
 "nbformat": 4,
 "nbformat_minor": 5
}
