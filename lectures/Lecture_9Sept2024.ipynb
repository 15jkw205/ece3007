{
 "cells": [
  {
   "cell_type": "code",
   "execution_count": 4,
   "id": "45e098ec-afcd-4979-aea3-ddab4d463083",
   "metadata": {
    "editable": true,
    "slideshow": {
     "slide_type": ""
    },
    "tags": []
   },
   "outputs": [
    {
     "name": "stdout",
     "output_type": "stream",
     "text": [
      "True\n"
     ]
    }
   ],
   "source": [
    "# \n",
    "# \n",
    "# \n",
    "\n",
    "x = True \n",
    "y = False \n",
    "\n",
    "z = x and not y \n",
    "print(z)"
   ]
  },
  {
   "cell_type": "code",
   "execution_count": 12,
   "id": "2853ff2e-8d14-4fe8-a591-23e52ab64448",
   "metadata": {},
   "outputs": [
    {
     "name": "stdout",
     "output_type": "stream",
     "text": [
      "<class 'float'>\n",
      "\n",
      "z = 10.0\n",
      "\n"
     ]
    },
    {
     "data": {
      "text/plain": [
       "float"
      ]
     },
     "execution_count": 12,
     "metadata": {},
     "output_type": "execute_result"
    }
   ],
   "source": [
    "# \n",
    "# \n",
    "# \n",
    "\n",
    "x = 4 \n",
    "y = 2.2 \n",
    "z = 0.0\n",
    "\n",
    "print(type(z))\n",
    "\n",
    "if x * y > 8:\n",
    "    z = 10.\n",
    "    \n",
    "print() \n",
    "print(\"z =\", z)\n",
    "print() \n",
    "type(z) \n",
    "    "
   ]
  },
  {
   "cell_type": "code",
   "execution_count": 18,
   "id": "3d586e33-c6c8-43d5-b283-0423495beb08",
   "metadata": {},
   "outputs": [
    {
     "name": "stdout",
     "output_type": "stream",
     "text": [
      "You got an A\n"
     ]
    }
   ],
   "source": [
    "# \n",
    "#\n",
    "# \n",
    "\n",
    "grade = 95\n",
    "\n",
    "if grade >= 90: \n",
    "    print(\"You got an A\")\n",
    "    \n",
    "elif grade >= 80: \n",
    "    print(\"You got a B\") \n",
    "\n",
    "elif grade >= 70: \n",
    "    print(\"You got a C\") \n",
    "\n",
    "elif grade >= 60: \n",
    "    print(\"You got a D\") \n",
    "\n",
    "else: \n",
    "    print(\"Sorry, see you next semester\")"
   ]
  },
  {
   "cell_type": "code",
   "execution_count": 24,
   "id": "5b2c3039-a4e4-46d8-8c2b-db84a67a9cef",
   "metadata": {},
   "outputs": [
    {
     "name": "stdin",
     "output_type": "stream",
     "text": [
      "Enter your favorite sport:  lesTek\n"
     ]
    },
    {
     "name": "stdout",
     "output_type": "stream",
     "text": [
      "I do not know that sport!\n"
     ]
    }
   ],
   "source": [
    "# \n",
    "#\n",
    "# \n",
    "def sport_game(): \n",
    "    \n",
    "    sport = input(\"Enter your favorite sport: \") \n",
    "    \n",
    "    if sport.lower() == \"soccer\": \n",
    "        print(\"European football\")\n",
    "    \n",
    "    if sport.lower() == \"basketball\": \n",
    "        print(\"Can you nunk it\") \n",
    "    \n",
    "    if sport.lower() == \"golf\": \n",
    "        print(\"Hit that little ball every where.\") \n",
    "\n",
    "    else: \n",
    "        print('I do not know that sport!') \n",
    "\n",
    "sport_game()\n",
    "\n"
   ]
  },
  {
   "cell_type": "code",
   "execution_count": 30,
   "id": "f5316810-1952-4d9c-b48e-00b7372f285b",
   "metadata": {},
   "outputs": [
    {
     "name": "stdout",
     "output_type": "stream",
     "text": [
      "Z =  100.0\n",
      "<class 'float'>\n"
     ]
    }
   ],
   "source": [
    "# \n",
    "#\n",
    "# \n",
    "\n",
    "x = 10 # int \n",
    "y = 2.2 # float \n",
    "z = 0 # int \n",
    "\n",
    "z = (float)(x) * x\n",
    "print(\"Z = \", z)\n",
    "print(type(z))\n"
   ]
  },
  {
   "cell_type": "code",
   "execution_count": 44,
   "id": "329a1672-f3f8-4af3-992d-f7b8feff2e1f",
   "metadata": {},
   "outputs": [
    {
     "name": "stdout",
     "output_type": "stream",
     "text": [
      "0  2  4  6  8  10  12  14  16  18\n",
      "20  22  24  26  28  30  32  34  36  38\n",
      "40  42  44  46  48  50  i(Break) =  51\n",
      "\n",
      "Exit program...\n"
     ]
    }
   ],
   "source": [
    "# \n",
    "#\n",
    "# \n",
    "j = 0 \n",
    "\n",
    "for i in range(102): \n",
    "    \n",
    "    if i % 2 == 0: \n",
    "        if j < 18: \n",
    "            print(i, end=\"  \")\n",
    "        else: \n",
    "            print(i)\n",
    "            j = -1\n",
    "            \n",
    "    if i == 51: \n",
    "        print(\"i(Break) = \", i)\n",
    "        break\n",
    "\n",
    "    j += 1\n",
    "    \n",
    "print() \n",
    "print(\"Exit program...\") "
   ]
  },
  {
   "cell_type": "code",
   "execution_count": null,
   "id": "e41cadb4-83b7-4fb2-9fae-4e26087be54a",
   "metadata": {},
   "outputs": [],
   "source": []
  },
  {
   "cell_type": "code",
   "execution_count": null,
   "id": "b03e644d-df3c-4e7b-bc9f-4db6f36a1a08",
   "metadata": {},
   "outputs": [],
   "source": []
  }
 ],
 "metadata": {
  "kernelspec": {
   "display_name": "Python 3 (ipykernel)",
   "language": "python",
   "name": "python3"
  },
  "language_info": {
   "codemirror_mode": {
    "name": "ipython",
    "version": 3
   },
   "file_extension": ".py",
   "mimetype": "text/x-python",
   "name": "python",
   "nbconvert_exporter": "python",
   "pygments_lexer": "ipython3",
   "version": "3.11.1"
  }
 },
 "nbformat": 4,
 "nbformat_minor": 5
}
