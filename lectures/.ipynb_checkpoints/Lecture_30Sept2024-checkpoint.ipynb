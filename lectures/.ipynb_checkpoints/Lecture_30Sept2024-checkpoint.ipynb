{
 "cells": [
  {
   "cell_type": "code",
   "execution_count": 6,
   "id": "d116ede9-4c7c-430a-a057-9206ddc05fa0",
   "metadata": {},
   "outputs": [
    {
     "name": "stdout",
     "output_type": "stream",
     "text": [
      " ['10 \\n', '20 \\n', '33, 44 \\n', '55 \\n', '66\\n', '77 \\n', '88, 99\\n', '100 \\n']\n"
     ]
    }
   ],
   "source": [
    "# \n",
    "#   use readline() command on a file with multi line data \n",
    "# \n",
    "\n",
    "infile = open(\"myFile.txt\", \"r\")\n",
    "\n",
    "print(end=\" \")\n",
    "'''\n",
    "for i in range(8): \n",
    "    line = infile.readline()\n",
    "    print(line, end=\" \") \n",
    "'''\n",
    "data = infile.readlines()\n",
    "print(data) \n",
    "\n",
    "infile.close() \n"
   ]
  }
 ],
 "metadata": {
  "kernelspec": {
   "display_name": "Python 3 (ipykernel)",
   "language": "python",
   "name": "python3"
  },
  "language_info": {
   "codemirror_mode": {
    "name": "ipython",
    "version": 3
   },
   "file_extension": ".py",
   "mimetype": "text/x-python",
   "name": "python",
   "nbconvert_exporter": "python",
   "pygments_lexer": "ipython3",
   "version": "3.11.1"
  }
 },
 "nbformat": 4,
 "nbformat_minor": 5
}
