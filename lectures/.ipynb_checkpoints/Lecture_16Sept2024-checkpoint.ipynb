{
 "cells": [
  {
   "cell_type": "code",
   "execution_count": 5,
   "id": "979746ed-9c88-4b76-99f4-52646de2701a",
   "metadata": {},
   "outputs": [
    {
     "name": "stdout",
     "output_type": "stream",
     "text": [
      "\n",
      "CPU start time '  3.95534\n",
      "\n",
      "The CPU time =  0.23127399999999954\n",
      "\n"
     ]
    }
   ],
   "source": [
    "# \n",
    "#          Numpy \n",
    "# \n",
    "\n",
    "import numpy as np \n",
    "import time\n",
    "\n",
    "print() \n",
    "t0 = time.process_time() \n",
    "print(\"CPU start time ' \", t0)\n",
    "\n",
    "n = 5000000 # 5 million \n",
    "\n",
    "list1 = list(range(n)) # Create a list with 21 items - n = 0 to 20 \n",
    "list2 = list(range(n)) # Create a list with 21 items - n = 0 to 20 \n",
    "\n",
    "t1 = time.process_time() \n",
    "\n",
    "delta_time = t1 - t0 \n",
    "\n",
    "print()\n",
    "print(\"The CPU time = \", delta_time) \n",
    "print() \n",
    "\n",
    "\n"
   ]
  },
  {
   "cell_type": "code",
   "execution_count": 6,
   "id": "ee13b668-d2b2-4a2d-936e-0ae73399649a",
   "metadata": {},
   "outputs": [
    {
     "name": "stdout",
     "output_type": "stream",
     "text": [
      "\n"
     ]
    },
    {
     "ename": "AttributeError",
     "evalue": "module 'numpy' has no attribute 'arrange'",
     "output_type": "error",
     "traceback": [
      "\u001b[0;31m---------------------------------------------------------------------------\u001b[0m",
      "\u001b[0;31mAttributeError\u001b[0m                            Traceback (most recent call last)",
      "Cell \u001b[0;32mIn[6], line 12\u001b[0m\n\u001b[1;32m      9\u001b[0m t0 \u001b[38;5;241m=\u001b[39m time\u001b[38;5;241m.\u001b[39mprocess_time() \n\u001b[1;32m     11\u001b[0m n \u001b[38;5;241m=\u001b[39m \u001b[38;5;241m1000000\u001b[39m\n\u001b[0;32m---> 12\u001b[0m myArray1 \u001b[38;5;241m=\u001b[39m \u001b[43mnp\u001b[49m\u001b[38;5;241;43m.\u001b[39;49m\u001b[43marrange\u001b[49m(n)\n\u001b[1;32m     14\u001b[0m \u001b[38;5;28mprint\u001b[39m() \n\u001b[1;32m     15\u001b[0m t1 \u001b[38;5;241m=\u001b[39m time\u001b[38;5;241m.\u001b[39mtime()\n",
      "File \u001b[0;32m/Library/Frameworks/Python.framework/Versions/3.11/lib/python3.11/site-packages/numpy/__init__.py:333\u001b[0m, in \u001b[0;36m__getattr__\u001b[0;34m(attr)\u001b[0m\n\u001b[1;32m    330\u001b[0m     \u001b[38;5;124m\"\u001b[39m\u001b[38;5;124mRemoved in NumPy 1.25.0\u001b[39m\u001b[38;5;124m\"\u001b[39m\n\u001b[1;32m    331\u001b[0m     \u001b[38;5;28;01mraise\u001b[39;00m \u001b[38;5;167;01mRuntimeError\u001b[39;00m(\u001b[38;5;124m\"\u001b[39m\u001b[38;5;124mTester was removed in NumPy 1.25.\u001b[39m\u001b[38;5;124m\"\u001b[39m)\n\u001b[0;32m--> 333\u001b[0m \u001b[38;5;28;01mraise\u001b[39;00m \u001b[38;5;167;01mAttributeError\u001b[39;00m(\u001b[38;5;124m\"\u001b[39m\u001b[38;5;124mmodule \u001b[39m\u001b[38;5;132;01m{!r}\u001b[39;00m\u001b[38;5;124m has no attribute \u001b[39m\u001b[38;5;124m\"\u001b[39m\n\u001b[1;32m    334\u001b[0m                      \u001b[38;5;124m\"\u001b[39m\u001b[38;5;132;01m{!r}\u001b[39;00m\u001b[38;5;124m\"\u001b[39m\u001b[38;5;241m.\u001b[39mformat(\u001b[38;5;18m__name__\u001b[39m, attr))\n",
      "\u001b[0;31mAttributeError\u001b[0m: module 'numpy' has no attribute 'arrange'"
     ]
    }
   ],
   "source": [
    "# \n",
    "#          Numpy \n",
    "# \n",
    "\n",
    "import numpy as np \n",
    "import time\n",
    "\n",
    "print() \n",
    "t0 = time.process_time() \n",
    "\n",
    "n = 1000000\n",
    "myArray1 = np.arrange(n)\n",
    "\n",
    "print() \n",
    "t1 = time.time()\n",
    "delta_time = t1 - t0\n",
    "\n",
    "print(\"Wall-Clock end time ' \", t0)\n",
    "print(\"Wall-Clock execution time ' \", delta_time)\n",
    "print()\n"
   ]
  },
  {
   "cell_type": "code",
   "execution_count": 15,
   "id": "8340a68f-5a1a-41ce-af11-feff7f3946dc",
   "metadata": {},
   "outputs": [
    {
     "name": "stdout",
     "output_type": "stream",
     "text": [
      "\n",
      "Array(a) =  [1 2 3 4 5]\n",
      "\n",
      "Array(b) =  [1. 2. 3. 4. 5.]\n",
      "\n",
      "<class 'numpy.float64'>\n",
      "\n"
     ]
    }
   ],
   "source": [
    "# \n",
    "# \n",
    "#\n",
    "\n",
    "# print(dir(), end=\" \")\n",
    "\n",
    "print() \n",
    "a = np.array( [1, 2, 3, 4, 5] )\n",
    "print(\"Array(a) = \", a) \n",
    "print() \n",
    "\n",
    "b = np.array( [1, 2, 3.0, 4, 5] ) \n",
    "print(\"Array(b) = \", b) \n",
    "print() \n",
    "print(type(b[1]))\n",
    "print()\n",
    "\n"
   ]
  },
  {
   "cell_type": "code",
   "execution_count": 18,
   "id": "42507146-5425-4400-8eb7-2d7dcc891408",
   "metadata": {},
   "outputs": [
    {
     "name": "stdout",
     "output_type": "stream",
     "text": [
      "[[1 2 3]\n",
      " [4 5 6]\n",
      " [7 8 9]]\n"
     ]
    }
   ],
   "source": [
    "# \n",
    "#                    multi-dimensional array \n",
    "# \n",
    "\n",
    "c = np.array([[1, 2, 3], [4, 5, 6], [7, 8, 9]]) # 3 rows and 3 columns matrix\n",
    "print(c)\n"
   ]
  },
  {
   "cell_type": "code",
   "execution_count": null,
   "id": "b19bad0a-ca33-4695-bcc1-17b368a5a216",
   "metadata": {},
   "outputs": [],
   "source": []
  }
 ],
 "metadata": {
  "kernelspec": {
   "display_name": "Python 3 (ipykernel)",
   "language": "python",
   "name": "python3"
  },
  "language_info": {
   "codemirror_mode": {
    "name": "ipython",
    "version": 3
   },
   "file_extension": ".py",
   "mimetype": "text/x-python",
   "name": "python",
   "nbconvert_exporter": "python",
   "pygments_lexer": "ipython3",
   "version": "3.11.1"
  }
 },
 "nbformat": 4,
 "nbformat_minor": 5
}
