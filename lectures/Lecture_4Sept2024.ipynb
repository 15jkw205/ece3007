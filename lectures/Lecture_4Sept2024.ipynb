{
 "cells": [
  {
   "cell_type": "code",
   "execution_count": 14,
   "id": "5d2e84d6-8613-4e2b-95be-75217b236526",
   "metadata": {
    "editable": true,
    "slideshow": {
     "slide_type": ""
    },
    "tags": []
   },
   "outputs": [
    {
     "data": {
      "text/plain": [
       "['In',\n",
       " 'Out',\n",
       " '_',\n",
       " '_1',\n",
       " '__',\n",
       " '___',\n",
       " '__builtin__',\n",
       " '__builtins__',\n",
       " '__doc__',\n",
       " '__loader__',\n",
       " '__name__',\n",
       " '__package__',\n",
       " '__session__',\n",
       " '__spec__',\n",
       " '_dh',\n",
       " '_i',\n",
       " '_i1',\n",
       " '_i10',\n",
       " '_i11',\n",
       " '_i12',\n",
       " '_i13',\n",
       " '_i14',\n",
       " '_i2',\n",
       " '_i3',\n",
       " '_i4',\n",
       " '_i5',\n",
       " '_i6',\n",
       " '_i7',\n",
       " '_i8',\n",
       " '_i9',\n",
       " '_ih',\n",
       " '_ii',\n",
       " '_iii',\n",
       " '_oh',\n",
       " 'exit',\n",
       " 'get_ipython',\n",
       " 'i',\n",
       " 'open',\n",
       " 'quit',\n",
       " 'x']"
      ]
     },
     "execution_count": 14,
     "metadata": {},
     "output_type": "execute_result"
    }
   ],
   "source": [
    "# \n",
    "# Review from last class\n",
    "# \n",
    "\n",
    "dir()"
   ]
  },
  {
   "cell_type": "code",
   "execution_count": 15,
   "id": "7e1cd0ac-6add-4790-af2a-d32891a3016f",
   "metadata": {},
   "outputs": [
    {
     "name": "stdout",
     "output_type": "stream",
     "text": [
      "This program illustrates a chaotic function.\n",
      "\n"
     ]
    },
    {
     "name": "stdin",
     "output_type": "stream",
     "text": [
      "Enter a number between 0 and 1:  0.39\n"
     ]
    },
    {
     "name": "stdout",
     "output_type": "stream",
     "text": [
      "0.927810000000    \n",
      "0.261216555210    \n",
      "0.752631619327    \n",
      "0.726091333172    \n",
      "0.775642565351    \n"
     ]
    }
   ],
   "source": [
    "# \n",
    "# Chaotic function, Zelle book page 15 \n",
    "# \n",
    "\n",
    "print(\"This program illustrates a chaotic function.\") \n",
    "print() # blank line \n",
    "\n",
    "x = eval(input(\"Enter a number between 0 and 1: \")) \n",
    "\n",
    "for i in range(5): \n",
    "    x = 3.9 * x * (1-x)\n",
    "    # print (x)\n",
    "    # print(\"%12.4f\" % x) \n",
    "    print(\"{:<18.12f}\".format(x))\n"
   ]
  },
  {
   "cell_type": "code",
   "execution_count": 27,
   "id": "aaebe953-ff9c-4932-9da2-9ed748cd0432",
   "metadata": {},
   "outputs": [
    {
     "name": "stdout",
     "output_type": "stream",
     "text": [
      "Hello Les\n",
      "\n",
      "Hello Leslie Tekamp\n",
      "Hello Leslie Tekamp\n",
      "\n",
      "Hello Leslie TekampHello Leslie TekampHello Leslie TekampHello Leslie Tekamp\n",
      "\n"
     ]
    }
   ],
   "source": [
    "#\n",
    "#    String formatting\n",
    "#\n",
    "\n",
    "my_string = \"Hello {name}\".format(name = \"Les\")\n",
    "print(my_string)\n",
    "print() \n",
    "\n",
    "first_name = \"Leslie\" \n",
    "last_name = \"Tekamp\" \n",
    "\n",
    "my_string = \"Hello {} {}\".format(first_name, last_name)\n",
    "print(my_string)\n",
    "\n",
    "my_string = \"Hello \" + first_name + ' ' + last_name\n",
    "print(my_string)\n",
    "print() \n",
    "\n",
    "print(my_string * 4)\n",
    "print() "
   ]
  },
  {
   "cell_type": "code",
   "execution_count": 41,
   "id": "22c9a45a-c945-45b4-be2f-fd05c4455eaf",
   "metadata": {},
   "outputs": [
    {
     "name": "stdout",
     "output_type": "stream",
     "text": [
      "\n",
      "Hello\n",
      "\n",
      "5\n",
      "\n",
      "Hel\n",
      "\n",
      "oll\n"
     ]
    }
   ],
   "source": [
    "#\n",
    "#\n",
    "#\n",
    "\n",
    "my_string2 = \"Hello\" \n",
    "print() \n",
    "print(my_string2) \n",
    "\n",
    "print() \n",
    "print(len(my_string2))\n",
    "\n",
    "print() \n",
    "print(my_string2[:3])\n",
    "\n",
    "print() \n",
    "print(my_string2[(len(my_string2) -1):-4:-1])"
   ]
  },
  {
   "cell_type": "code",
   "execution_count": 42,
   "id": "7044bd33-1957-4363-a96a-52c78550f172",
   "metadata": {},
   "outputs": [
    {
     "name": "stdout",
     "output_type": "stream",
     "text": [
      "\n",
      "C b d\n",
      "\n"
     ]
    }
   ],
   "source": [
    "# \n",
    "# \n",
    "# \n",
    "\n",
    "string8 = \"{2} {1} {3}\".format(\"A\", \"b\", \"C\", \"d\") \n",
    "\n",
    "print() \n",
    "print(string8) \n",
    "print()"
   ]
  }
 ],
 "metadata": {
  "kernelspec": {
   "display_name": "Python 3 (ipykernel)",
   "language": "python",
   "name": "python3"
  },
  "language_info": {
   "codemirror_mode": {
    "name": "ipython",
    "version": 3
   },
   "file_extension": ".py",
   "mimetype": "text/x-python",
   "name": "python",
   "nbconvert_exporter": "python",
   "pygments_lexer": "ipython3",
   "version": "3.11.1"
  }
 },
 "nbformat": 4,
 "nbformat_minor": 5
}
