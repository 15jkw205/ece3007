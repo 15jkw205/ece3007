{
 "cells": [
  {
   "cell_type": "markdown",
   "id": "195ab15e-b93e-4fe3-aa17-ac3c389bd2f2",
   "metadata": {},
   "source": [
    "# HWK-2 --- Problem 1"
   ]
  },
  {
   "cell_type": "code",
   "execution_count": 3,
   "id": "98ed7007-bdf0-46a2-b478-7cf869abba58",
   "metadata": {
    "editable": true,
    "slideshow": {
     "slide_type": ""
    },
    "tags": []
   },
   "outputs": [
    {
     "name": "stdin",
     "output_type": "stream",
     "text": [
      "Enter an integer between 0 and 20:  0\n"
     ]
    },
    {
     "name": "stdout",
     "output_type": "stream",
     "text": [
      "The number is 0, and its cube is 0\n"
     ]
    },
    {
     "name": "stdin",
     "output_type": "stream",
     "text": [
      "Enter an integer between 0 and 20:  20\n"
     ]
    },
    {
     "name": "stdout",
     "output_type": "stream",
     "text": [
      "The number is 20, and its cube root is 2.71\n"
     ]
    },
    {
     "name": "stdin",
     "output_type": "stream",
     "text": [
      "Enter an integer between 0 and 20:  99\n"
     ]
    },
    {
     "name": "stdout",
     "output_type": "stream",
     "text": [
      "Error: Number out of range. Please enter a number between 0 and 20.\n"
     ]
    },
    {
     "name": "stdin",
     "output_type": "stream",
     "text": [
      "Enter an integer between 0 and 20:  4\n"
     ]
    },
    {
     "name": "stdout",
     "output_type": "stream",
     "text": [
      "The number is 4, and its cube is 64\n"
     ]
    }
   ],
   "source": [
    "#                       HWK-2 --- Problem 1\n",
    "# Name: Jakob West\n",
    "# Date: 09/16/2024\n",
    "# Class/Section #: ECE-3007-001\n",
    "\n",
    "# Problem Statement: Create a YouTube video that shows a Jupyter Notebook Python program that prompts the user \n",
    "# to enter an integer number between 0 and 20 (inclusive). If the number is less than 10, cube (X^3) the number \n",
    "# and print a message to screen with the number and its cube. If thenumber is greater or equal 10, take the cube \n",
    "# root of the number and print a message to screen with the number and its cube root. If the number is out of \n",
    "# range, write an error message to the screen. The program will loop until three valid numbers (an invalid number \n",
    "# does not count as a loop) are entered, then terminate. Upload to YouTube and provide hyper link to video.\n",
    "\n",
    "# Algorithm:\n",
    "# 1. Initialize valid_inputs to 0.\n",
    "# 2. While valid_inputs is less than 3, repeat the following steps:\n",
    "    # a. Prompt the user to enter an integer between 0 and 20.\n",
    "    # b. If the integer is between 0 and 20 (inclusive):\n",
    "        # - If the number is less than 10, calculate the cube of the number.\n",
    "        # - If the number is 10 or greater, calculate the cube root of the number.\n",
    "        # - Increment valid_inputs by 1.\n",
    "    # c. If the number is outside the range, display an error message.\n",
    "# 3. End the program once 3 valid inputs are processed.\n",
    "\n",
    "# calculate_number(num)\n",
    "# Function to calculate cube or cube root based on input\n",
    "# Input: number between 0-20 (inclusive) \n",
    "# Output: Cubed number if less than 10, cube rooted number is less than or equal to 20 \n",
    "def calculate_number(num): \n",
    "    if num < 10: \n",
    "        # Cube the number if it's less than 10 \n",
    "        print(f\"The number is {num}, and its cube is {num ** 3}\") \n",
    "    else: \n",
    "        # Calculate cube root (exponentiation) if number is less than or equal to 20\n",
    "        print(f\"The number is {num}, and its cube root is {round(num ** (1/3), 2)}\")\n",
    "# end calculate_number() function \n",
    "\n",
    "\n",
    "# Counter for valid inputs \n",
    "valid_inputs = 0\n",
    "\n",
    "# Loop until three valid numbers are entered\n",
    "while valid_inputs < 3: \n",
    "    # Prompt user to enter an integer\n",
    "    user_input = eval(input(\"Enter an integer between 0 and 20: \"))\n",
    "\n",
    "    # Check if the number is within the range \n",
    "    if 0 <= user_input <= 20: \n",
    "        calculate_number(user_input)\n",
    "        valid_inputs += 1 \n",
    "    else: \n",
    "        print(\"Error: Number out of range. Please enter a number between 0 and 20.\") "
   ]
  },
  {
   "cell_type": "markdown",
   "id": "b6f7b601-2f8d-4381-ac96-efe2f24423d7",
   "metadata": {
    "editable": true,
    "slideshow": {
     "slide_type": ""
    },
    "tags": []
   },
   "source": [
    "# HWK-2 --- Problem 2"
   ]
  },
  {
   "cell_type": "code",
   "execution_count": 4,
   "id": "d52ea16f-a207-4b61-97e3-10264482b8fa",
   "metadata": {
    "editable": true,
    "slideshow": {
     "slide_type": ""
    },
    "tags": []
   },
   "outputs": [
    {
     "name": "stdin",
     "output_type": "stream",
     "text": [
      "Enter a string (or type 'exit' to quit):  Python\n"
     ]
    },
    {
     "name": "stdout",
     "output_type": "stream",
     "text": [
      "Reversed string: nohtyP\n"
     ]
    },
    {
     "name": "stdin",
     "output_type": "stream",
     "text": [
      "Enter a string (or type 'exit' to quit):  racecar\n"
     ]
    },
    {
     "name": "stdout",
     "output_type": "stream",
     "text": [
      "Reversed string: racecar\n"
     ]
    },
    {
     "name": "stdin",
     "output_type": "stream",
     "text": [
      "Enter a string (or type 'exit' to quit):  Leslie Tekamp\n"
     ]
    },
    {
     "name": "stdout",
     "output_type": "stream",
     "text": [
      "Reversed string: pmakeT eilseL\n"
     ]
    },
    {
     "name": "stdin",
     "output_type": "stream",
     "text": [
      "Enter a string (or type 'exit' to quit):  exit\n"
     ]
    },
    {
     "name": "stdout",
     "output_type": "stream",
     "text": [
      "Program terminated.\n"
     ]
    }
   ],
   "source": [
    "#                       HWK-2 --- Problem 2\n",
    "# Name: Jakob West\n",
    "# Date: 09/16/2024\n",
    "# Class/Section #: ECE-3007-001\n",
    "\n",
    "# Problem Statement: Create a YouTube video that shows a Jupyter Notebook Python program that prompts the user \n",
    "# to enter a string. Call a function to reverse the string and print the result (reversed string). DO NOT USE \n",
    "# A BUILT IN FUNCTION. The program will run until a Sentinel string is entered. When the Sentinel string is \n",
    "# entered, the program terminates.\n",
    "\n",
    "# Algorithm: \n",
    "# 1. Define a function reverse_string that takes a string as input.\n",
    "    # a. Initialize an empty string to store the reversed string.\n",
    "    # b. Loop through the input string in reverse order and append each character to the empty string.\n",
    "    # c. Return the reversed string.\n",
    "\n",
    "# 2. Start a loop to prompt the user for input continuously:\n",
    "    # a. Ask the user to enter a string.\n",
    "    # b. If the input is the sentinel value ('exit'), print a termination message and end the loop.\n",
    "    # c. If the input is not the sentinel value, call the reverse_string function to reverse the input string.\n",
    "    # d. Print the reversed string.\n",
    "\n",
    "# 3. End the program once the sentinel value is entered.\n",
    "\n",
    "\n",
    "# reverse_string(s) \n",
    "# Input: user input string \n",
    "# Output: string in reverse order\n",
    "# Function to reverse the input string without using built-in functions \n",
    "def reverse_string(s): \n",
    "    reversed_str = \"\" # Initialize an empty string for the reversed result \n",
    "    # Loop through the original string in reverse order \n",
    "    for i in range(len(s) - 1, -1, -1): \n",
    "        reversed_str += s[i] # Append each character to the reversed string \n",
    "    return reversed_str # Return the reversed string \n",
    "# end reverse_string() function \n",
    "\n",
    "\n",
    "# Loop to keep asking the user for input until the Sentinel string is entered \n",
    "while True: \n",
    "    # Prompt the user to enter a string \n",
    "    user_input = input(\"Enter a string (or type 'exit' to quit): \")\n",
    "\n",
    "    # Check if the user input is the sentinel value \n",
    "    if user_input.lower() == 'exit': \n",
    "        print(\"Program terminated.\") \n",
    "        break # Exit the loop and terminate the program \n",
    "\n",
    "    # Call the reverse_string function and print the reversed result\n",
    "    reversed_str = reverse_string(user_input)\n",
    "    print(f\"Reversed string: {reversed_str}\")"
   ]
  }
 ],
 "metadata": {
  "kernelspec": {
   "display_name": "Python 3 (ipykernel)",
   "language": "python",
   "name": "python3"
  },
  "language_info": {
   "codemirror_mode": {
    "name": "ipython",
    "version": 3
   },
   "file_extension": ".py",
   "mimetype": "text/x-python",
   "name": "python",
   "nbconvert_exporter": "python",
   "pygments_lexer": "ipython3",
   "version": "3.11.1"
  }
 },
 "nbformat": 4,
 "nbformat_minor": 5
}
